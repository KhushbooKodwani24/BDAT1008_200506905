{
  "nbformat": 4,
  "nbformat_minor": 0,
  "metadata": {
    "colab": {
      "name": "BDAT1008Assignment1.ipynb",
      "provenance": [],
      "collapsed_sections": []
    },
    "kernelspec": {
      "name": "python3",
      "display_name": "Python 3"
    },
    "language_info": {
      "name": "python"
    }
  },
  "cells": [
    {
      "cell_type": "code",
      "execution_count": 3,
      "metadata": {
        "colab": {
          "base_uri": "https://localhost:8080/"
        },
        "id": "zDah07LnNW0R",
        "outputId": "6efa72ae-14ce-4ca1-e29e-73df9fe69d82"
      },
      "outputs": [
        {
          "output_type": "stream",
          "name": "stdout",
          "text": [
            "\r0% [Working]\r            \rGet:1 https://cloud.r-project.org/bin/linux/ubuntu bionic-cran40/ InRelease [3,626 B]\n",
            "Get:2 https://developer.download.nvidia.com/compute/cuda/repos/ubuntu1804/x86_64  InRelease [1,581 B]\n",
            "Hit:3 http://archive.ubuntu.com/ubuntu bionic InRelease\n",
            "Get:4 http://archive.ubuntu.com/ubuntu bionic-updates InRelease [88.7 kB]\n",
            "Get:5 http://security.ubuntu.com/ubuntu bionic-security InRelease [88.7 kB]\n",
            "Get:6 http://ppa.launchpad.net/c2d4u.team/c2d4u4.0+/ubuntu bionic InRelease [15.9 kB]\n",
            "Get:7 http://archive.ubuntu.com/ubuntu bionic-backports InRelease [74.6 kB]\n",
            "Ign:8 https://developer.download.nvidia.com/compute/machine-learning/repos/ubuntu1804/x86_64  InRelease\n",
            "Hit:9 https://developer.download.nvidia.com/compute/machine-learning/repos/ubuntu1804/x86_64  Release\n",
            "Hit:10 http://ppa.launchpad.net/cran/libgit2/ubuntu bionic InRelease\n",
            "Get:11 https://developer.download.nvidia.com/compute/cuda/repos/ubuntu1804/x86_64  Packages [806 kB]\n",
            "Get:12 http://ppa.launchpad.net/deadsnakes/ppa/ubuntu bionic InRelease [15.9 kB]\n",
            "Get:13 http://ppa.launchpad.net/graphics-drivers/ppa/ubuntu bionic InRelease [21.3 kB]\n",
            "Get:14 http://archive.ubuntu.com/ubuntu bionic-updates/main amd64 Packages [3,262 kB]\n",
            "Get:15 http://archive.ubuntu.com/ubuntu bionic-updates/restricted amd64 Packages [1,015 kB]\n",
            "Get:16 http://archive.ubuntu.com/ubuntu bionic-updates/universe amd64 Packages [2,290 kB]\n",
            "Get:17 http://ppa.launchpad.net/c2d4u.team/c2d4u4.0+/ubuntu bionic/main Sources [1,992 kB]\n",
            "Get:19 http://security.ubuntu.com/ubuntu bionic-security/restricted amd64 Packages [982 kB]\n",
            "Get:20 http://ppa.launchpad.net/c2d4u.team/c2d4u4.0+/ubuntu bionic/main amd64 Packages [1,021 kB]\n",
            "Get:21 http://security.ubuntu.com/ubuntu bionic-security/main amd64 Packages [2,830 kB]\n",
            "Get:22 http://security.ubuntu.com/ubuntu bionic-security/universe amd64 Packages [1,515 kB]\n",
            "Get:23 http://ppa.launchpad.net/deadsnakes/ppa/ubuntu bionic/main amd64 Packages [45.3 kB]\n",
            "Get:24 http://ppa.launchpad.net/graphics-drivers/ppa/ubuntu bionic/main amd64 Packages [47.7 kB]\n",
            "Fetched 16.1 MB in 4s (4,530 kB/s)\n",
            "Reading package lists... Done\n"
          ]
        }
      ],
      "source": [
        "!apt-get update \n",
        "!apt-get install openjdk-8-jdk-headless -qq > /dev/null \n",
        "!wget -q http://archive.apache.org/dist/spark/spark-3.2.1/spark-3.2.1-bin-hadoop2.7.tgz \n",
        "!tar xf spark-3.2.1-bin-hadoop2.7.tgz \n",
        "!pip install -q findspark "
      ]
    },
    {
      "cell_type": "code",
      "source": [
        "#set environment variables\n",
        "import os \n",
        "os.environ[\"JAVA_HOME\"] = \"/usr/lib/jvm/java-8-openjdk-amd64\"\n",
        "os.environ[\"SPARK_HOME\"] = \"/content/spark-3.2.1-bin-hadoop2.7\""
      ],
      "metadata": {
        "id": "QVlqzUgOO8Jz"
      },
      "execution_count": 4,
      "outputs": []
    },
    {
      "cell_type": "code",
      "source": [
        "!ls"
      ],
      "metadata": {
        "colab": {
          "base_uri": "https://localhost:8080/"
        },
        "id": "Tmei5ZF7POh_",
        "outputId": "2f0a029f-7f6e-4b5d-820b-183eeed4e30e"
      },
      "execution_count": 6,
      "outputs": [
        {
          "output_type": "stream",
          "name": "stdout",
          "text": [
            "covid_19_202001_202007.csv  spark-3.2.1-bin-hadoop2.7\n",
            "sample_data\t\t    spark-3.2.1-bin-hadoop2.7.tgz\n"
          ]
        }
      ]
    },
    {
      "cell_type": "code",
      "source": [
        "!ls sample_data"
      ],
      "metadata": {
        "colab": {
          "base_uri": "https://localhost:8080/"
        },
        "id": "0Cg2ar9NPSn-",
        "outputId": "f18eb9ac-9e98-4241-8849-8c8aeff96882"
      },
      "execution_count": 7,
      "outputs": [
        {
          "output_type": "stream",
          "name": "stdout",
          "text": [
            "anscombe.json\t\t      covid_19_202001_202007.csv  README.md\n",
            "california_housing_test.csv   mnist_test.csv\n",
            "california_housing_train.csv  mnist_train_small.csv\n"
          ]
        }
      ]
    },
    {
      "cell_type": "markdown",
      "source": [
        "**1.\tImport the data using inferred schema. Log the time taken to import.**\n",
        "\n"
      ],
      "metadata": {
        "id": "8kXz69MHEoe4"
      }
    },
    {
      "cell_type": "code",
      "source": [
        "import findspark\n",
        "findspark.init()\n",
        "from pyspark import SparkContext\n",
        "\n",
        "sc = SparkContext.getOrCreate()\n",
        "sc"
      ],
      "metadata": {
        "colab": {
          "base_uri": "https://localhost:8080/",
          "height": 196
        },
        "id": "rP5INLK0PXQS",
        "outputId": "611a0676-8fdb-42a2-a858-6bb18141d7d0"
      },
      "execution_count": 8,
      "outputs": [
        {
          "output_type": "execute_result",
          "data": {
            "text/plain": [
              "<SparkContext master=local[*] appName=pyspark-shell>"
            ],
            "text/html": [
              "\n",
              "        <div>\n",
              "            <p><b>SparkContext</b></p>\n",
              "\n",
              "            <p><a href=\"http://d9ddf840e867:4040\">Spark UI</a></p>\n",
              "\n",
              "            <dl>\n",
              "              <dt>Version</dt>\n",
              "                <dd><code>v3.2.1</code></dd>\n",
              "              <dt>Master</dt>\n",
              "                <dd><code>local[*]</code></dd>\n",
              "              <dt>AppName</dt>\n",
              "                <dd><code>pyspark-shell</code></dd>\n",
              "            </dl>\n",
              "        </div>\n",
              "        "
            ]
          },
          "metadata": {},
          "execution_count": 8
        }
      ]
    },
    {
      "cell_type": "markdown",
      "source": [
        ""
      ],
      "metadata": {
        "id": "Rh3eER6BEmx-"
      }
    },
    {
      "cell_type": "code",
      "source": [
        "import findspark\n",
        "findspark.init()\n",
        "from pyspark.sql import SparkSession\n",
        "\n",
        "sparksess = SparkSession.builder.getOrCreate()\n",
        "sparksess"
      ],
      "metadata": {
        "colab": {
          "base_uri": "https://localhost:8080/",
          "height": 219
        },
        "id": "r-6Lu8dg3Cy7",
        "outputId": "789aa3a2-b008-4f04-f0f5-e4bb9d901b28"
      },
      "execution_count": 9,
      "outputs": [
        {
          "output_type": "execute_result",
          "data": {
            "text/plain": [
              "<pyspark.sql.session.SparkSession at 0x7f58c4135c10>"
            ],
            "text/html": [
              "\n",
              "            <div>\n",
              "                <p><b>SparkSession - in-memory</b></p>\n",
              "                \n",
              "        <div>\n",
              "            <p><b>SparkContext</b></p>\n",
              "\n",
              "            <p><a href=\"http://d9ddf840e867:4040\">Spark UI</a></p>\n",
              "\n",
              "            <dl>\n",
              "              <dt>Version</dt>\n",
              "                <dd><code>v3.2.1</code></dd>\n",
              "              <dt>Master</dt>\n",
              "                <dd><code>local[*]</code></dd>\n",
              "              <dt>AppName</dt>\n",
              "                <dd><code>pyspark-shell</code></dd>\n",
              "            </dl>\n",
              "        </div>\n",
              "        \n",
              "            </div>\n",
              "        "
            ]
          },
          "metadata": {},
          "execution_count": 9
        }
      ]
    },
    {
      "cell_type": "code",
      "source": [
        "df.printSchema()"
      ],
      "metadata": {
        "colab": {
          "base_uri": "https://localhost:8080/"
        },
        "id": "QKIWxzX_aIzz",
        "outputId": "9a2d4bba-efb6-4caf-fe41-2ee1798282ab"
      },
      "execution_count": null,
      "outputs": [
        {
          "output_type": "stream",
          "name": "stdout",
          "text": [
            "root\n",
            " |-- Province/State: string (nullable = true)\n",
            " |-- Country/Region: string (nullable = true)\n",
            " |-- Lat: double (nullable = true)\n",
            " |-- Long: double (nullable = true)\n",
            " |-- Date: string (nullable = true)\n",
            " |-- Confirmed: integer (nullable = true)\n",
            " |-- Deaths: integer (nullable = true)\n",
            " |-- Recovered: integer (nullable = true)\n",
            " |-- Active: integer (nullable = true)\n",
            " |-- WHO Region: string (nullable = true)\n",
            "\n"
          ]
        }
      ]
    },
    {
      "cell_type": "code",
      "source": [
        "# import pyspark\n",
        "from pyspark.sql import SparkSession\n",
        "spark = SparkSession.builder.getOrCreate() \n",
        "\n",
        "# File location and type\n",
        "path = '/content/sample_data/covid_19_202001_202007.csv'\n",
        "file_type = \"csv\"\n",
        "\n",
        "# Logging the time taken \n",
        "import time\n",
        "logtime = time.time()\n",
        "\n",
        "# CSV options\n",
        "infer_schema = \"true\"\n",
        "first_row_is_header = \"true\"\n",
        "delimiter = \",\"\n",
        "\n",
        "# Import csv. The applied options are for CSV files. For other file types, these will be ignored.\n",
        "df = spark.read.format(file_type) \\\n",
        "  .option(\"inferSchema\", infer_schema) \\\n",
        "  .option(\"header\", first_row_is_header) \\\n",
        "  .option(\"sep\", delimiter) \\\n",
        "  .load(path)\n",
        "\n",
        "df.head() #first row object\n",
        "logtime\n",
        "\n",
        "print(f\"The total time taken to import: {time.time() - logtime}\")"
      ],
      "metadata": {
        "colab": {
          "base_uri": "https://localhost:8080/"
        },
        "id": "B8OwL0AZRMcV",
        "outputId": "d6fa657f-3c1e-4b76-fac8-78a958f16650"
      },
      "execution_count": 11,
      "outputs": [
        {
          "output_type": "stream",
          "name": "stdout",
          "text": [
            "The total time taken to import: 0.9829614162445068\n"
          ]
        }
      ]
    },
    {
      "cell_type": "markdown",
      "source": [
        "2.\tDefine the schema and then import the data using your defined schema. Log the time taken to import"
      ],
      "metadata": {
        "id": "0IddqRYYE7fA"
      }
    },
    {
      "cell_type": "code",
      "source": [
        "#Custom Schema\n",
        "\n",
        "from pyspark.sql.types import *\n",
        "path = '/content/sample_data/covid_19_202001_202007.csv'\n",
        "\n",
        "# Logging the time taken \n",
        "import time\n",
        "logtime = time.time()\n",
        "\n",
        "# Defining the schema\n",
        "definedSchema = StructType([\n",
        "StructField('Province_State', StringType(),False),\n",
        "StructField('Country_Region',StringType(),False),\n",
        "StructField('Lat', FloatType(),False),\n",
        "StructField('Long', FloatType(), False),\n",
        "StructField('Date', DateType(), False),\n",
        "StructField('Confirmed', IntegerType(), False),\n",
        "StructField('Deaths', IntegerType(), False),\n",
        "StructField('Recovered', IntegerType(), False),\n",
        "StructField('Active', IntegerType(), False),\n",
        "StructField('WHORegion', StringType(), False),\n",
        "])\n",
        "df_newschema = spark.read.csv(path,  header=True, nullValue='NA', schema=definedSchema)\n",
        "df_newschema.show()\n",
        "print(f\"The total time taken to import: {time.time() - logtime}\")"
      ],
      "metadata": {
        "id": "Ay3WAVHK2jJ4",
        "colab": {
          "base_uri": "https://localhost:8080/"
        },
        "outputId": "210a2431-31b7-42d7-d281-9340f279d0b0"
      },
      "execution_count": 44,
      "outputs": [
        {
          "output_type": "stream",
          "name": "stdout",
          "text": [
            "+--------------------+-------------------+---------+---------+----------+---------+------+---------+------+--------------------+\n",
            "|      Province_State|     Country_Region|      Lat|     Long|      Date|Confirmed|Deaths|Recovered|Active|           WHORegion|\n",
            "+--------------------+-------------------+---------+---------+----------+---------+------+---------+------+--------------------+\n",
            "|                null|        Afghanistan| 33.93911| 67.70995|2020-01-22|        0|     0|        0|     0|Eastern Mediterra...|\n",
            "|                null|            Albania|  41.1533|  20.1683|2020-01-22|        0|     0|        0|     0|              Europe|\n",
            "|                null|            Algeria|  28.0339|   1.6596|2020-01-22|        0|     0|        0|     0|              Africa|\n",
            "|                null|            Andorra|  42.5063|   1.5218|2020-01-22|        0|     0|        0|     0|              Europe|\n",
            "|                null|             Angola| -11.2027|  17.8739|2020-01-22|        0|     0|        0|     0|              Africa|\n",
            "|                null|Antigua and Barbuda|  17.0608| -61.7964|2020-01-22|        0|     0|        0|     0|            Americas|\n",
            "|                null|          Argentina| -38.4161| -63.6167|2020-01-22|        0|     0|        0|     0|            Americas|\n",
            "|                null|            Armenia|  40.0691|  45.0382|2020-01-22|        0|     0|        0|     0|              Europe|\n",
            "|Australian Capita...|          Australia| -35.4735| 149.0124|2020-01-22|        0|     0|        0|     0|     Western Pacific|\n",
            "|     New South Wales|          Australia| -33.8688| 151.2093|2020-01-22|        0|     0|        0|     0|     Western Pacific|\n",
            "|  Northern Territory|          Australia| -12.4634| 130.8456|2020-01-22|        0|     0|        0|     0|     Western Pacific|\n",
            "|          Queensland|          Australia| -27.4698| 153.0251|2020-01-22|        0|     0|        0|     0|     Western Pacific|\n",
            "|     South Australia|          Australia| -34.9285| 138.6007|2020-01-22|        0|     0|        0|     0|     Western Pacific|\n",
            "|            Tasmania|          Australia| -42.8821| 147.3272|2020-01-22|        0|     0|        0|     0|     Western Pacific|\n",
            "|            Victoria|          Australia| -37.8136| 144.9631|2020-01-22|        0|     0|        0|     0|     Western Pacific|\n",
            "|   Western Australia|          Australia| -31.9505| 115.8605|2020-01-22|        0|     0|        0|     0|     Western Pacific|\n",
            "|                null|            Austria|  47.5162|  14.5501|2020-01-22|        0|     0|        0|     0|              Europe|\n",
            "|                null|         Azerbaijan|  40.1431|  47.5769|2020-01-22|        0|     0|        0|     0|              Europe|\n",
            "|                null|            Bahamas|25.025885|-78.03589|2020-01-22|        0|     0|        0|     0|            Americas|\n",
            "|                null|            Bahrain|  26.0275|    50.55|2020-01-22|        0|     0|        0|     0|Eastern Mediterra...|\n",
            "+--------------------+-------------------+---------+---------+----------+---------+------+---------+------+--------------------+\n",
            "only showing top 20 rows\n",
            "\n",
            "The total time taken to import: 0.17087388038635254\n"
          ]
        }
      ]
    },
    {
      "cell_type": "markdown",
      "source": [
        "**3.\tWould you recommend creating a schema first before importing the data? Why?  ** **bold text**                                         \n",
        "Answer: Yes, creating a schema before importing the data is recommended as it helps in getting the correct order of fields and also helps in defining the appropriate data types for the fields. \n",
        "In importing the data, system takes default datatypes which creates discrepancy. As seen in the importing the data, it has taken the Date column's datatype as StringType which is incorrect, it should be DateType."
      ],
      "metadata": {
        "id": "x4cJyo7HFBI5"
      }
    },
    {
      "cell_type": "markdown",
      "source": [
        "**4.\tProvide summary statistics on the dataset**"
      ],
      "metadata": {
        "id": "AMmpx5o7u5NH"
      }
    },
    {
      "cell_type": "code",
      "source": [
        "df_newschema.describe().show()"
      ],
      "metadata": {
        "colab": {
          "base_uri": "https://localhost:8080/"
        },
        "id": "x-AeBOTQcCPB",
        "outputId": "de977aa8-ea55-4692-ad08-1017423bccd1"
      },
      "execution_count": 45,
      "outputs": [
        {
          "output_type": "stream",
          "name": "stdout",
          "text": [
            "+-------+--------------+--------------+------------------+-----------------+------------------+-----------------+-----------------+-----------------+---------------+\n",
            "|summary|Province_State|Country_Region|               Lat|             Long|         Confirmed|           Deaths|        Recovered|           Active|      WHORegion|\n",
            "+-------+--------------+--------------+------------------+-----------------+------------------+-----------------+-----------------+-----------------+---------------+\n",
            "|  count|         14664|         49068|             49068|            49068|             49068|            49068|            49068|            49068|          49068|\n",
            "|   mean|          null|          null|21.433730432456823|23.52823646406561| 16884.90425531915|884.1791595337083|7915.713479253282| 8085.01161653216|           null|\n",
            "| stddev|          null|          null|24.950319775168307|70.44273974868658|127300.20527228026|6313.584410596534|54800.91873054013|76258.90302550694|           null|\n",
            "|    min|       Alberta|   Afghanistan|          -51.7963|           -135.0|                 0|                0|                0|              -14|         Africa|\n",
            "|    max|      Zhejiang|      Zimbabwe|           71.7069|          178.065|           4290259|           148011|          1846641|          2816444|Western Pacific|\n",
            "+-------+--------------+--------------+------------------+-----------------+------------------+-----------------+-----------------+-----------------+---------------+\n",
            "\n"
          ]
        }
      ]
    },
    {
      "cell_type": "markdown",
      "source": [
        "**5.\tFor top 10 countries suffering from covid-19, plot the line charts to show the deaths from Jan 22, 2020 to July 27, 2020**"
      ],
      "metadata": {
        "id": "qHOX87U6vdMH"
      }
    },
    {
      "cell_type": "code",
      "source": [
        "df_newschema.createOrReplaceTempView(\"New_df\")"
      ],
      "metadata": {
        "id": "62ShuRJ2vtRR"
      },
      "execution_count": 47,
      "outputs": []
    },
    {
      "cell_type": "code",
      "source": [
        "total_deaths = spark.sql(\"SELECT Country_Region, SUM(Deaths) FROM New_df WHERE Date between '2020-01-22' and '2020-07-27' GROUP BY Country_Region ORDER BY sum(Deaths) DESC LIMIT 10\") ;\n",
        "total_deaths.show()"
      ],
      "metadata": {
        "id": "e1iMkqCEtmOq",
        "colab": {
          "base_uri": "https://localhost:8080/"
        },
        "outputId": "df4d9377-4f62-4999-8876-355a3713eed5"
      },
      "execution_count": 48,
      "outputs": [
        {
          "output_type": "stream",
          "name": "stdout",
          "text": [
            "+--------------+-----------+\n",
            "|Country_Region|sum(Deaths)|\n",
            "+--------------+-----------+\n",
            "|            US|   11011411|\n",
            "|United Kingdom|    3997775|\n",
            "|        Brazil|    3938034|\n",
            "|         Italy|    3707717|\n",
            "|        France|    3048524|\n",
            "|         Spain|    3033030|\n",
            "|        Mexico|    1728277|\n",
            "|         India|    1111831|\n",
            "|          Iran|    1024136|\n",
            "|       Belgium|     963679|\n",
            "+--------------+-----------+\n",
            "\n"
          ]
        }
      ]
    },
    {
      "cell_type": "code",
      "source": [
        "from IPython.core.pylabtools import figsize\n",
        "\n",
        "import matplotlib.pyplot as plt \n",
        "import numpy as np \n",
        "import pandas as pd \n",
        "df_newschema = total_deaths.toPandas()\n",
        "df_newschema.plot(x = 'Country_Region', y = 'sum(Deaths)' )\n",
        "plt.title('Top 10 countries suffering from covid-19 from Jan 22, 2020 to July 27, 2020', fontsize = 15)\n",
        "plt.xlabel('Country', fontsize = 10)\n",
        "plt.ylabel('Covid Death Cases', fontsize = 10)\n",
        "plt.xlim(0,9)\n",
        "plt.legend(['Total Deaths'])\n",
        "plt.xticks(np.arange(0,10),['US','UK','Brazil','Italy','France','Spain','Mexico','India','Iran','Belgium'],color='black')\n",
        "plt.show()"
      ],
      "metadata": {
        "id": "V5vnJ5FBuy-J",
        "colab": {
          "base_uri": "https://localhost:8080/",
          "height": 297
        },
        "outputId": "36295ded-93bb-4ea3-80af-a2f930f52bbb"
      },
      "execution_count": 68,
      "outputs": [
        {
          "output_type": "display_data",
          "data": {
            "text/plain": [
              "<Figure size 432x288 with 1 Axes>"
            ],
            "image/png": "[encoded data removed]"
          },
          "metadata": {
            "needs_background": "light"
          }
        }
      ]
    },
    {
      "cell_type": "markdown",
      "source": [
        "**6.\tPlot the recovery rate (recovered cases / confirmed cases) for the period Jan 22, 2020 to July 27, 2020. Which 5 countries have a relatively higher recovery rate?**"
      ],
      "metadata": {
        "id": "sVBJmxSO5vpi"
      }
    },
    {
      "cell_type": "code",
      "source": [
        "recovery = spark.sql(\"SELECT Country_Region, SUM(Recovered)/SUM(Confirmed) FROM New_df WHERE Date between '2020-01-22' and '2020-07-27'  GROUP BY Country_Region ORDER BY SUM(Recovered)/SUM(Confirmed) DESC LIMIT 5\") ;\n",
        "recovery.show()"
      ],
      "metadata": {
        "colab": {
          "base_uri": "https://localhost:8080/"
        },
        "id": "neZunuDP52u8",
        "outputId": "5ed7b71a-e913-41dc-9feb-cdfbb617c925"
      },
      "execution_count": 61,
      "outputs": [
        {
          "output_type": "stream",
          "name": "stdout",
          "text": [
            "+--------------+---------------------------------+\n",
            "|Country_Region|(sum(Recovered) / sum(Confirmed))|\n",
            "+--------------+---------------------------------+\n",
            "| Liechtenstein|                0.915563713650855|\n",
            "|     Greenland|               0.9104180491041804|\n",
            "|       Iceland|               0.8593886304979638|\n",
            "|      Thailand|               0.8522155257320743|\n",
            "|   New Zealand|               0.8498741327090165|\n",
            "+--------------+---------------------------------+\n",
            "\n"
          ]
        }
      ]
    },
    {
      "cell_type": "code",
      "source": [
        "import pandas as pd\n",
        "import matplotlib.pyplot as plt\n",
        "from matplotlib import rcParams\n",
        "recovery_chart = recovery.toPandas()\n",
        "\n",
        "fig = plt.figure(figsize = (20, 5))\n",
        "recovery_chart.plot(x = 'Country_Region',y = '(sum(Recovered) / sum(Confirmed))',color = 'Black')\n",
        "plt.title(\"Higher Recovery rate of top 5 country\")\n",
        "plt.ylabel(\"recovery rate\")\n",
        "plt.xlabel(\"Country\")\n",
        "plt.xlim(0,4)\n",
        "plt.legend(['Recovery Rate'])"
      ],
      "metadata": {
        "colab": {
          "base_uri": "https://localhost:8080/",
          "height": 330
        },
        "id": "YeWNtAbG6GmQ",
        "outputId": "f0705348-4c72-428c-98bd-6ff0c4d0d7ac"
      },
      "execution_count": 67,
      "outputs": [
        {
          "output_type": "execute_result",
          "data": {
            "text/plain": [
              "<matplotlib.legend.Legend at 0x7f58bb75f9d0>"
            ]
          },
          "metadata": {},
          "execution_count": 67
        },
        {
          "output_type": "display_data",
          "data": {
            "text/plain": [
              "<Figure size 1440x360 with 0 Axes>"
            ]
          },
          "metadata": {}
        },
        {
          "output_type": "display_data",
          "data": {
            "text/plain": [
              "<Figure size 432x288 with 1 Axes>"
            ],
            "image/png": "[encoded data removed]"
          },
          "metadata": {
            "needs_background": "light"
          }
        }
      ]
    },
    {
      "cell_type": "markdown",
      "source": [
        "**7.\tAs of July 27, 2020, aggregate the confirmed cases, deaths, recovered cases and active cases group by WHO region.**"
      ],
      "metadata": {
        "id": "7evgKDpC7Xz8"
      }
    },
    {
      "cell_type": "code",
      "source": [
        "aggregated_cases=spark.sql(\"SELECT Date,WHORegion,AVG(Confirmed),AVG(Deaths),AVG(Recovered),AVG(Active) From New_df where date <= '2020-07-27' GROUP BY Date,WHORegion\")\n",
        "aggregated_cases.show()"
      ],
      "metadata": {
        "colab": {
          "base_uri": "https://localhost:8080/"
        },
        "id": "01TzWpfd7bH4",
        "outputId": "ecd708b9-7396-4a84-b90a-426deb9dae1e"
      },
      "execution_count": 69,
      "outputs": [
        {
          "output_type": "stream",
          "name": "stdout",
          "text": [
            "+----------+--------------------+------------------+-------------------+-------------------+------------------+\n",
            "|      Date|           WHORegion|    avg(Confirmed)|        avg(Deaths)|     avg(Recovered)|       avg(Active)|\n",
            "+----------+--------------------+------------------+-------------------+-------------------+------------------+\n",
            "|2020-02-27|     Western Pacific| 1468.490909090909|  50.27272727272727|              577.2| 841.0181818181818|\n",
            "|2020-06-19|Eastern Mediterra...| 39895.90909090909|  888.6363636363636| 23972.409090909092|15034.863636363636|\n",
            "|2020-06-22|              Europe|        32150.8125|          2426.4125|           17862.55|          11861.85|\n",
            "|2020-01-29|              Europe|             0.125|                0.0|                0.0|             0.125|\n",
            "|2020-02-21|Eastern Mediterra...|1.3181818181818181|0.18181818181818182|0.18181818181818182|0.9545454545454546|\n",
            "|2020-02-25|Eastern Mediterra...| 6.818181818181818| 0.7272727272727273|0.18181818181818182| 5.909090909090909|\n",
            "|2020-07-07|     South-East Asia|          100165.5|             2622.4|            58070.4|           39472.7|\n",
            "|2020-07-14|              Europe|        37591.6625|            2558.85|         22342.3625|          12690.45|\n",
            "|2020-01-24|     South-East Asia|               0.5|                0.0|                0.0|               0.5|\n",
            "|2020-02-12|     Western Pacific| 844.4181818181818| 20.327272727272728|  87.76363636363637| 736.3272727272728|\n",
            "|2020-03-23|            Americas|1135.5434782608695| 19.434782608695652|  4.826086956521739|1111.2826086956522|\n",
            "|2020-06-20|     South-East Asia|           58052.3|             1721.3|            29768.6|           26562.4|\n",
            "|2020-07-06|              Africa|          7913.375|           148.0625|          4001.0625|           3764.25|\n",
            "|2020-02-29|     South-East Asia|               4.7|                0.0|                3.3|               1.4|\n",
            "|2020-04-08|Eastern Mediterra...|3885.4545454545455| 202.72727272727272| 1513.2727272727273|2169.4545454545455|\n",
            "|2020-04-22|              Africa| 342.5833333333333|            15.6875| 108.08333333333333|          218.8125|\n",
            "|2020-07-06|     South-East Asia|           97438.7|             2561.8|            56021.3|           38855.6|\n",
            "|2020-07-13|              Africa|10228.666666666666| 174.54166666666666|  5243.708333333333| 4810.416666666667|\n",
            "|2020-03-30|              Europe|          5570.175|           348.4625|            731.625|         4490.0875|\n",
            "|2020-04-10|     South-East Asia|            1425.9|               62.2|              217.4|            1146.3|\n",
            "+----------+--------------------+------------------+-------------------+-------------------+------------------+\n",
            "only showing top 20 rows\n",
            "\n"
          ]
        }
      ]
    },
    {
      "cell_type": "markdown",
      "source": [
        "**8.\tWhich 5 countries have the highest growth rate on confirmed cases 3 months after the 1st positive case detected within the country?**"
      ],
      "metadata": {
        "id": "6Y3UHVG876uA"
      }
    },
    {
      "cell_type": "code",
      "source": [
        "highest_growth_rate=spark.sql(\"SELECT Date,WHORegion,AVG(Confirmed),AVG(Deaths),AVG(Recovered),AVG(Active) From New_df where date <= '2020-07-27' GROUP BY Date,WHORegion\")\n",
        "highest_growth_rate.show()"
      ],
      "metadata": {
        "colab": {
          "base_uri": "https://localhost:8080/"
        },
        "id": "bsj4zFRR7-nR",
        "outputId": "09fb6ff8-98b3-40e0-fd04-ce6898d05af4"
      },
      "execution_count": 70,
      "outputs": [
        {
          "output_type": "stream",
          "name": "stdout",
          "text": [
            "+----------+--------------------+------------------+-------------------+-------------------+------------------+\n",
            "|      Date|           WHORegion|    avg(Confirmed)|        avg(Deaths)|     avg(Recovered)|       avg(Active)|\n",
            "+----------+--------------------+------------------+-------------------+-------------------+------------------+\n",
            "|2020-02-27|     Western Pacific| 1468.490909090909|  50.27272727272727|              577.2| 841.0181818181818|\n",
            "|2020-06-19|Eastern Mediterra...| 39895.90909090909|  888.6363636363636| 23972.409090909092|15034.863636363636|\n",
            "|2020-06-22|              Europe|        32150.8125|          2426.4125|           17862.55|          11861.85|\n",
            "|2020-01-29|              Europe|             0.125|                0.0|                0.0|             0.125|\n",
            "|2020-02-21|Eastern Mediterra...|1.3181818181818181|0.18181818181818182|0.18181818181818182|0.9545454545454546|\n",
            "|2020-02-25|Eastern Mediterra...| 6.818181818181818| 0.7272727272727273|0.18181818181818182| 5.909090909090909|\n",
            "|2020-07-07|     South-East Asia|          100165.5|             2622.4|            58070.4|           39472.7|\n",
            "|2020-07-14|              Europe|        37591.6625|            2558.85|         22342.3625|          12690.45|\n",
            "|2020-01-24|     South-East Asia|               0.5|                0.0|                0.0|               0.5|\n",
            "|2020-02-12|     Western Pacific| 844.4181818181818| 20.327272727272728|  87.76363636363637| 736.3272727272728|\n",
            "|2020-03-23|            Americas|1135.5434782608695| 19.434782608695652|  4.826086956521739|1111.2826086956522|\n",
            "|2020-06-20|     South-East Asia|           58052.3|             1721.3|            29768.6|           26562.4|\n",
            "|2020-07-06|              Africa|          7913.375|           148.0625|          4001.0625|           3764.25|\n",
            "|2020-02-29|     South-East Asia|               4.7|                0.0|                3.3|               1.4|\n",
            "|2020-04-08|Eastern Mediterra...|3885.4545454545455| 202.72727272727272| 1513.2727272727273|2169.4545454545455|\n",
            "|2020-04-22|              Africa| 342.5833333333333|            15.6875| 108.08333333333333|          218.8125|\n",
            "|2020-07-06|     South-East Asia|           97438.7|             2561.8|            56021.3|           38855.6|\n",
            "|2020-07-13|              Africa|10228.666666666666| 174.54166666666666|  5243.708333333333| 4810.416666666667|\n",
            "|2020-03-30|              Europe|          5570.175|           348.4625|            731.625|         4490.0875|\n",
            "|2020-04-10|     South-East Asia|            1425.9|               62.2|              217.4|            1146.3|\n",
            "+----------+--------------------+------------------+-------------------+-------------------+------------------+\n",
            "only showing top 20 rows\n",
            "\n"
          ]
        }
      ]
    },
    {
      "cell_type": "markdown",
      "source": [
        "**9.\tFor step 7, export the results to a JSON file**"
      ],
      "metadata": {
        "id": "9WovSTZo8b5M"
      }
    },
    {
      "cell_type": "code",
      "source": [
        "aggregated_cases.write.json(\"AggregatedCasesJson.json\")"
      ],
      "metadata": {
        "id": "v8no6Tjr8fGY"
      },
      "execution_count": 71,
      "outputs": []
    }
  ]
}